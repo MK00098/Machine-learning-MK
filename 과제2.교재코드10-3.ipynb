{
 "cells": [
  {
   "cell_type": "code",
   "execution_count": null,
   "id": "664861b3",
   "metadata": {},
   "outputs": [
    {
     "name": "stdout",
     "output_type": "stream",
     "text": [
      "                             OLS Regression Results                            \n",
      "===============================================================================\n",
      "Dep. Variable:     companySatisfaction   R-squared:                       0.988\n",
      "Model:                             OLS   Adj. R-squared:                  0.982\n",
      "Method:                  Least Squares   F-statistic:                     164.0\n",
      "Date:                 Wed, 07 May 2025   Prob (F-statistic):           3.81e-06\n",
      "Time:                         09:41:16   Log-Likelihood:                -15.777\n",
      "No. Observations:                   10   AIC:                             39.55\n",
      "Df Residuals:                        6   BIC:                             40.77\n",
      "Df Model:                            3                                         \n",
      "Covariance Type:             nonrobust                                         \n",
      "===============================================================================\n",
      "                  coef    std err          t      P>|t|      [0.025      0.975]\n",
      "-------------------------------------------------------------------------------\n",
      "Intercept      24.9819      5.353      4.667      0.003      11.884      38.080\n",
      "salary          0.0120      0.001     15.895      0.000       0.010       0.014\n",
      "breakTime       0.0668      0.027      2.491      0.047       0.001       0.132\n",
      "workingTime    -0.9718      0.412     -2.356      0.057      -1.981       0.037\n",
      "==============================================================================\n",
      "Omnibus:                        0.929   Durbin-Watson:                   2.500\n",
      "Prob(Omnibus):                  0.628   Jarque-Bera (JB):                0.752\n",
      "Skew:                          -0.441   Prob(JB):                        0.686\n",
      "Kurtosis:                       1.986   Cond. No.                     5.06e+04\n",
      "==============================================================================\n",
      "\n",
      "Notes:\n",
      "[1] Standard Errors assume that the covariance matrix of the errors is correctly specified.\n",
      "[2] The condition number is large, 5.06e+04. This might indicate that there are\n",
      "strong multicollinearity or other numerical problems.\n"
     ]
    },
    {
     "name": "stderr",
     "output_type": "stream",
     "text": [
      "c:\\Users\\user\\anaconda3\\envs\\py312tf2\\Lib\\site-packages\\scipy\\stats\\_axis_nan_policy.py:430: UserWarning: `kurtosistest` p-value may be inaccurate with fewer than 20 observations; only n=10 observations were given.\n",
      "  return hypotest_fun_in(*args, **kwds)\n"
     ]
    }
   ],
   "source": [
    "# statsmodels 패키지에서 선형 회귀 분석 함수 ols 불러오기\n",
    "from statsmodels.formula.api import ols\n",
    "\n",
    "# sklearn의 LinearRegression도 불러오지만, 여기선 사용하지 않음\n",
    "from sklearn.linear_model import LinearRegression\n",
    "\n",
    "# pandas를 사용하여 데이터프레임 생성 예정\n",
    "import pandas as pd\n",
    "\n",
    "\n",
    "salary = [3000, 4200, 4000, 5000, 6000, 3800, 3500, 6200, 3900, 4500]   # 급여 (salary), 단위: 천원\n",
    "\n",
    "breakTime = [120, 60, 100, 100, 50, 120, 90, 40, 120, 120]              # 쉬는 시간 (breakTime), 단위: 분\n",
    "\n",
    "workingTime = [8, 6, 10, 8, 10, 10, 9, 7, 8, 9]                         # 근무 시간 (workingTime), 단위: 시간\n",
    "\n",
    "companySatisfaction = [60, 75, 70, 85, 90, 70, 65, 95, 70, 80]          # 회사 만족도 (companySatisfaction), 단위: 100점 만점\n",
    "\n",
    "# 각 리스트를 컬럼으로 갖는 딕셔너리로 묶기\n",
    "data = {\n",
    "    'salary': salary,\n",
    "    'breakTime': breakTime,\n",
    "    'workingTime': workingTime,\n",
    "    'companySatisfaction': companySatisfaction\n",
    "}\n",
    "\n",
    "# pandas 데이터프레임으로 변환\n",
    "df = pd.DataFrame(data)\n",
    "\n",
    "\n",
    "# 종속변수: companySatisfaction    # 독립변수: salary, breakTime, workingTime\n",
    "# ols를 이용해 선형 회귀 모델 생성 후 학습(fit)\n",
    "fit = ols('companySatisfaction ~ salary + breakTime + workingTime', data=df).fit()\n",
    "\n",
    "# 회귀 결과 요약 출력\n",
    "print(fit.summary())\n",
    "\n"
   ]
  },
  {
   "cell_type": "markdown",
   "id": "106552f4",
   "metadata": {},
   "source": [
    "### OLS 회귀 결과 해석 (Markdown)\n",
    "\n",
    "##### 기본 정보\n",
    "- 종속 변수 (Dep. Variable): companySatisfaction (회사 만족도)\n",
    "\n",
    "- 모델 (Model): OLS (Ordinary Least Squares, 최소제곱법)\n",
    "\n",
    "- 관측치 수 (No. Observations): 10개\n",
    "\n",
    "- 독립 변수 수 (Df Model): 3개 (salary, breakTime, workingTime)\n",
    "\n",
    "- 자유도 (Df Residuals): 6 (10 - 3 - 1)\n",
    "\n",
    "- R² (설명력): 0.988 → 모델이 데이터를 98.8% 설명함 (매우 높음)\n",
    "\n",
    "- Adj. R² (조정 R²): 0.982 → 변수 수를 보정해도 설명력이 여전히 높음\n",
    "\n",
    "- F-statistic: 164.0 (모형 전체의 유의성 검정 통계량)\n",
    "\n",
    "- Prob (F-statistic): 3.81e-06 → p < 0.05 ⇒ 모델 전체적으로 유의함\n",
    "\n"
   ]
  },
  {
   "cell_type": "markdown",
   "id": "d55a9f99",
   "metadata": {},
   "source": [
    "### 회귀 계수 해석\n",
    "- Intercept      > (계수 coef) 24.98    > (p-value) 0.003 > (해석) 기본값: 모든 변수 0일 때 만족도는 약 25점\n",
    "- salary         > (계수 coef) 0.0120   > (p-value) 0.000 > (해석) 급여가 1천 원 증가할 때 만족도는 1.2% 증가, 매우 유의미함\n",
    "- breakTime      > (계수 coef) 0.0668   > (p-value) 0.047 > (해석) 쉬는 시간이 1분 늘어나면 만족도는 0.067점 증가, 유의미함\n",
    "- workingTime    > (계수 coef) -0.9718  > (p-value) 0.057 > (해석) 근무 시간이 1시간 늘면 만족도는 0.97점 감소, 통계적으로 무의미 (p ≈ 0.057)\n",
    "\n",
    "- 일반적으로 p-value < 0.05면 통계적으로 유의함"
   ]
  },
  {
   "cell_type": "code",
   "execution_count": null,
   "id": "7adbdfeb",
   "metadata": {},
   "outputs": [],
   "source": [
    "#최종 : 유의수준 결과에 따라 salary와 breaktime을 독립변수로 설정\n",
    "companySatisfaction = 24.9819 + 0.0120 × salary+0.0668 × breakTime + ε"
   ]
  }
 ],
 "metadata": {
  "kernelspec": {
   "display_name": "py312tf2",
   "language": "python",
   "name": "python3"
  },
  "language_info": {
   "codemirror_mode": {
    "name": "ipython",
    "version": 3
   },
   "file_extension": ".py",
   "mimetype": "text/x-python",
   "name": "python",
   "nbconvert_exporter": "python",
   "pygments_lexer": "ipython3",
   "version": "3.12.9"
  }
 },
 "nbformat": 4,
 "nbformat_minor": 5
}
